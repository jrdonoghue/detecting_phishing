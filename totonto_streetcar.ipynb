{
 "cells": [
  {
   "cell_type": "code",
   "execution_count": 1,
   "metadata": {},
   "outputs": [
    {
     "name": "stdout",
     "output_type": "stream",
     "text": [
      "{'license_title': 'Open Government Licence – Toronto', 'owner_unit': None, 'relationships_as_object': [], 'topics': 'Transportation', 'owner_email': 'Andrew.Hutt@ttc.ca', 'excerpt': 'TTC Streetcar Delay Data', 'private': False, 'owner_division': 'Toronto Transit Commission', 'num_tags': 5, 'id': 'b68cb71b-44a7-4394-97e2-5d2f41462a5d', 'metadata_created': '2019-07-23T18:12:13.621158', 'refresh_rate': 'Monthly', 'title': 'TTC Streetcar Delay Data', 'license_url': 'https://open.toronto.ca/open-data-license/', 'state': 'active', 'information_url': None, 'license_id': 'open-government-licence-toronto', 'type': 'dataset', 'resources': [{'cache_last_updated': None, 'package_id': 'b68cb71b-44a7-4394-97e2-5d2f41462a5d', 'datastore_active': False, 'id': '146bfbda-8146-4ff8-b3dc-1eec3a5170fe', 'size': 12886, 'format': 'XLSX', 'state': 'active', 'hash': '', 'description': '', 'is_preview': False, 'last_modified': '2019-08-15T16:25:06.166714', 'url_type': 'upload', 'mimetype': 'application/vnd.openxmlformats-officedocument.spreadsheetml.sheet', 'cache_url': None, 'extract_job': None, 'name': 'ttc-streetcar-delay-data-readme', 'created': '2019-07-23T18:12:22.590326', 'url': 'https://ckan0.cf.opendata.inter.prod-toronto.ca/dataset/b68cb71b-44a7-4394-97e2-5d2f41462a5d/resource/146bfbda-8146-4ff8-b3dc-1eec3a5170fe/download/ttc-streetcar-delay-data-readme.xlsx', 'mimetype_inner': None, 'position': 0, 'revision_id': '3cfbbfd6-02f1-4f06-ae0c-df11d4485b90', 'resource_type': None}, {'cache_last_updated': None, 'package_id': 'b68cb71b-44a7-4394-97e2-5d2f41462a5d', 'datastore_active': False, 'id': '4f115333-57c9-445c-a769-9b831798b314', 'size': 822301, 'format': 'XLSX', 'state': 'active', 'hash': '', 'description': '', 'is_preview': False, 'last_modified': '2019-08-15T16:24:51.920749', 'url_type': 'upload', 'mimetype': 'application/vnd.openxmlformats-officedocument.spreadsheetml.sheet', 'cache_url': None, 'extract_job': None, 'name': 'ttc-streetcar-delay-data-2014', 'created': '2019-07-23T18:12:15.225295', 'url': 'https://ckan0.cf.opendata.inter.prod-toronto.ca/dataset/b68cb71b-44a7-4394-97e2-5d2f41462a5d/resource/4f115333-57c9-445c-a769-9b831798b314/download/ttc-streetcar-delay-data-2014.xlsx', 'mimetype_inner': None, 'position': 1, 'revision_id': '3cfbbfd6-02f1-4f06-ae0c-df11d4485b90', 'resource_type': None}, {'cache_last_updated': None, 'package_id': 'b68cb71b-44a7-4394-97e2-5d2f41462a5d', 'datastore_active': False, 'id': '0c047b96-4f64-44c7-8980-ae2e3f8e7433', 'size': 910656, 'format': 'XLSX', 'state': 'active', 'hash': '', 'description': '', 'is_preview': False, 'last_modified': '2019-08-15T16:24:54.291924', 'url_type': 'upload', 'mimetype': 'application/vnd.openxmlformats-officedocument.spreadsheetml.sheet', 'cache_url': None, 'extract_job': None, 'name': 'ttc-streetcar-delay-data-2015', 'created': '2019-07-23T18:12:16.606150', 'url': 'https://ckan0.cf.opendata.inter.prod-toronto.ca/dataset/b68cb71b-44a7-4394-97e2-5d2f41462a5d/resource/0c047b96-4f64-44c7-8980-ae2e3f8e7433/download/ttc-streetcar-delay-data-2015.xlsx', 'mimetype_inner': None, 'position': 2, 'revision_id': '3cfbbfd6-02f1-4f06-ae0c-df11d4485b90', 'resource_type': None}, {'cache_last_updated': None, 'package_id': 'b68cb71b-44a7-4394-97e2-5d2f41462a5d', 'datastore_active': False, 'id': '1240f170-7800-4283-9f5e-0fa398185e3a', 'size': 1030100, 'format': 'XLSX', 'state': 'active', 'hash': '', 'description': '', 'is_preview': False, 'last_modified': '2019-08-15T16:24:56.716868', 'url_type': 'upload', 'mimetype': 'application/vnd.openxmlformats-officedocument.spreadsheetml.sheet', 'cache_url': None, 'extract_job': None, 'name': 'ttc-streetcar-delay-data-2016', 'created': '2019-07-23T18:12:17.957690', 'url': 'https://ckan0.cf.opendata.inter.prod-toronto.ca/dataset/b68cb71b-44a7-4394-97e2-5d2f41462a5d/resource/1240f170-7800-4283-9f5e-0fa398185e3a/download/ttc-streetcar-delay-data-2016.xlsx', 'mimetype_inner': None, 'position': 3, 'revision_id': '3cfbbfd6-02f1-4f06-ae0c-df11d4485b90', 'resource_type': None}, {'cache_last_updated': None, 'package_id': 'b68cb71b-44a7-4394-97e2-5d2f41462a5d', 'datastore_active': False, 'id': '99f512ad-7ac5-49ac-884e-a7a6fbe604b5', 'size': 2085182, 'format': 'XLSX', 'state': 'active', 'hash': '', 'description': '', 'is_preview': False, 'last_modified': '2019-08-15T16:25:00.246789', 'url_type': 'upload', 'mimetype': 'application/vnd.openxmlformats-officedocument.spreadsheetml.sheet', 'cache_url': None, 'extract_job': None, 'name': 'ttc-streetcar-delay-data-2017', 'created': '2019-07-23T18:12:19.506225', 'url': 'https://ckan0.cf.opendata.inter.prod-toronto.ca/dataset/b68cb71b-44a7-4394-97e2-5d2f41462a5d/resource/99f512ad-7ac5-49ac-884e-a7a6fbe604b5/download/ttc-streetcar-delay-data-2017.xlsx', 'mimetype_inner': None, 'position': 4, 'revision_id': '3cfbbfd6-02f1-4f06-ae0c-df11d4485b90', 'resource_type': None}, {'cache_last_updated': None, 'package_id': 'b68cb71b-44a7-4394-97e2-5d2f41462a5d', 'datastore_active': False, 'id': '90305d4e-5193-4c12-a648-fcf090694ba5', 'size': 1021294, 'format': 'XLSX', 'state': 'active', 'hash': '', 'description': '', 'is_preview': False, 'last_modified': '2019-08-15T16:25:02.766418', 'url_type': 'upload', 'mimetype': 'application/vnd.openxmlformats-officedocument.spreadsheetml.sheet', 'cache_url': None, 'extract_job': None, 'name': 'ttc-streetcar-delay-data-2018', 'created': '2019-07-23T18:12:20.761795', 'url': 'https://ckan0.cf.opendata.inter.prod-toronto.ca/dataset/b68cb71b-44a7-4394-97e2-5d2f41462a5d/resource/90305d4e-5193-4c12-a648-fcf090694ba5/download/ttc-streetcar-delay-data-2018.xlsx', 'mimetype_inner': None, 'position': 5, 'revision_id': '3cfbbfd6-02f1-4f06-ae0c-df11d4485b90', 'resource_type': None}, {'cache_last_updated': None, 'package_id': 'b68cb71b-44a7-4394-97e2-5d2f41462a5d', 'datastore_active': False, 'id': '786224cc-860f-4de3-a9b6-8f86753b3174', 'size': 759867, 'format': 'XLSX', 'state': 'active', 'hash': '', 'description': '', 'is_preview': True, 'last_modified': '2020-01-30T14:59:02.386841', 'url_type': 'upload', 'mimetype': 'application/vnd.openxmlformats-officedocument.spreadsheetml.sheet', 'cache_url': None, 'extract_job': None, 'name': 'ttc-streetcar-delay-data-2019', 'created': '2019-07-23T18:12:21.771553', 'url': 'https://ckan0.cf.opendata.inter.prod-toronto.ca/dataset/b68cb71b-44a7-4394-97e2-5d2f41462a5d/resource/786224cc-860f-4de3-a9b6-8f86753b3174/download/ttc-streetcar-delay-data-2019.xlsx', 'mimetype_inner': None, 'position': 6, 'revision_id': '3cfbbfd6-02f1-4f06-ae0c-df11d4485b90', 'resource_type': None}, {'cache_last_updated': None, 'package_id': 'b68cb71b-44a7-4394-97e2-5d2f41462a5d', 'datastore_active': False, 'id': 'f228bf87-7add-4d3e-a7c2-bfa4b6ae371c', 'size': 224330, 'format': 'XLSX', 'state': 'active', 'hash': '', 'description': '', 'is_preview': False, 'last_modified': '2020-06-22T15:48:50.439164', 'url_type': 'upload', 'mimetype': 'application/vnd.openxmlformats-officedocument.spreadsheetml.sheet', 'cache_url': None, 'extract_job': None, 'name': 'ttc-streetcar-delay-data-2020\\t', 'created': '2020-04-28T17:01:51.308963', 'url': 'https://ckan0.cf.opendata.inter.prod-toronto.ca/dataset/b68cb71b-44a7-4394-97e2-5d2f41462a5d/resource/f228bf87-7add-4d3e-a7c2-bfa4b6ae371c/download/ttc-streetcar-delay-data-2020.xlsx', 'mimetype_inner': None, 'position': 7, 'revision_id': 'e7de0be8-79a2-42e9-bba5-154084cabd99', 'resource_type': None}], 'limitations': None, 'num_resources': 8, 'collection_method': None, 'tags': [{'vocabulary_id': None, 'state': 'active', 'display_name': 'streetcar delay', 'id': '9d430065-6b26-4884-89be-bfc9176d99e8', 'name': 'streetcar delay'}, {'vocabulary_id': None, 'state': 'active', 'display_name': 'ttc', 'id': '87dfe170-8b82-4495-97e0-7d96298d3ad0', 'name': 'ttc'}], 'is_retired': False, 'groups': [], 'creator_user_id': '150d5301-86ec-44a3-a070-50f2cea839c9', 'dataset_category': 'Document', 'relationships_as_subject': [], 'name': 'ttc-streetcar-delay-data', 'metadata_modified': '2020-06-22T15:48:51.046435', 'isopen': False, 'url': None, 'notes': 'TTC Streetcar Delay Data\\r\\n\\r\\n \\r\\n', 'owner_org': '95a064ae-77e8-4ef0-a4e3-4e2d43e1f066', 'last_refreshed': '2020-06-22T15:48:50.439164', 'image_url': None, 'formats': 'XLSX', 'owner_section': None, 'organization': {'description': '', 'created': '2019-07-23T15:51:35.236542', 'title': 'City of Toronto', 'name': 'city-of-toronto', 'is_organization': True, 'state': 'active', 'image_url': '', 'revision_id': '62817a72-3dc5-450a-8cc4-fef2c51660da', 'type': 'organization', 'id': '95a064ae-77e8-4ef0-a4e3-4e2d43e1f066', 'approval_status': 'approved'}, 'revision_id': '18f3f288-8b90-49fb-959a-4207b4428c1f', 'civic_issues': 'Mobility'}\n"
     ]
    }
   ],
   "source": [
    "import pandas as pd\n",
    "import requests\n",
    " \n",
    "# Get the dataset metadata by passing package_id to the package_search endpoint\n",
    "# For example, to retrieve the metadata for this dataset:\n",
    " \n",
    "url = \"https://ckan0.cf.opendata.inter.prod-toronto.ca/api/3/action/package_show\"\n",
    "params = { \"id\": \"b68cb71b-44a7-4394-97e2-5d2f41462a5d\"}\n",
    "package = requests.get(url, params = params).json()\n",
    "print(package[\"result\"])"
   ]
  },
  {
   "cell_type": "code",
   "execution_count": null,
   "metadata": {},
   "outputs": [],
   "source": []
  }
 ],
 "metadata": {
  "kernelspec": {
   "display_name": "Python 3",
   "language": "python",
   "name": "python3"
  },
  "language_info": {
   "codemirror_mode": {
    "name": "ipython",
    "version": 3
   },
   "file_extension": ".py",
   "mimetype": "text/x-python",
   "name": "python",
   "nbconvert_exporter": "python",
   "pygments_lexer": "ipython3",
   "version": "3.7.6"
  }
 },
 "nbformat": 4,
 "nbformat_minor": 4
}
